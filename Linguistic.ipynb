{
 "metadata": {
  "name": "",
  "signature": "sha256:d193d6d836fb1050864d7296ba0500dc513fe508f8dc8d6567d15edb2dca8fa4"
 },
 "nbformat": 3,
 "nbformat_minor": 0,
 "worksheets": []
}